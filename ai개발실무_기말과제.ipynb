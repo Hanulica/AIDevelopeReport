{
  "nbformat": 4,
  "nbformat_minor": 0,
  "metadata": {
    "colab": {
      "provenance": [],
      "authorship_tag": "ABX9TyM0GyT2YLitC7fw8iV0l4EG",
      "include_colab_link": true
    },
    "kernelspec": {
      "name": "python3",
      "display_name": "Python 3"
    },
    "language_info": {
      "name": "python"
    }
  },
  "cells": [
    {
      "cell_type": "markdown",
      "metadata": {
        "id": "view-in-github",
        "colab_type": "text"
      },
      "source": [
        "<a href=\"https://colab.research.google.com/github/Hanulica/AIDevelopeReport/blob/main/ai%EA%B0%9C%EB%B0%9C%EC%8B%A4%EB%AC%B4_%EA%B8%B0%EB%A7%90%EA%B3%BC%EC%A0%9C.ipynb\" target=\"_parent\"><img src=\"https://colab.research.google.com/assets/colab-badge.svg\" alt=\"Open In Colab\"/></a>"
      ]
    },
    {
      "cell_type": "code",
      "execution_count": 1,
      "metadata": {
        "id": "KXz0JqJSbKhp"
      },
      "outputs": [],
      "source": [
        "from google.colab import files # colab에 학습데이터를 올리기 위한 임포트\n",
        "import pandas as pd\n",
        "import numpy as np"
      ]
    },
    {
      "cell_type": "code",
      "source": [
        "# 콜랩에 학습데이터를 올리는 함수\n",
        "Upload = files.upload()"
      ],
      "metadata": {
        "colab": {
          "base_uri": "https://localhost:8080/",
          "height": 77
        },
        "id": "nCyEPqVgd2aw",
        "outputId": "7ebb7787-3464-4307-ffa3-a2f477c17436"
      },
      "execution_count": 2,
      "outputs": [
        {
          "output_type": "display_data",
          "data": {
            "text/plain": [
              "<IPython.core.display.HTML object>"
            ],
            "text/html": [
              "\n",
              "     <input type=\"file\" id=\"files-19dc38db-d07a-425c-a1a2-f2906ce99ff1\" name=\"files[]\" multiple disabled\n",
              "        style=\"border:none\" />\n",
              "     <output id=\"result-19dc38db-d07a-425c-a1a2-f2906ce99ff1\">\n",
              "      Upload widget is only available when the cell has been executed in the\n",
              "      current browser session. Please rerun this cell to enable.\n",
              "      </output>\n",
              "      <script>// Copyright 2017 Google LLC\n",
              "//\n",
              "// Licensed under the Apache License, Version 2.0 (the \"License\");\n",
              "// you may not use this file except in compliance with the License.\n",
              "// You may obtain a copy of the License at\n",
              "//\n",
              "//      http://www.apache.org/licenses/LICENSE-2.0\n",
              "//\n",
              "// Unless required by applicable law or agreed to in writing, software\n",
              "// distributed under the License is distributed on an \"AS IS\" BASIS,\n",
              "// WITHOUT WARRANTIES OR CONDITIONS OF ANY KIND, either express or implied.\n",
              "// See the License for the specific language governing permissions and\n",
              "// limitations under the License.\n",
              "\n",
              "/**\n",
              " * @fileoverview Helpers for google.colab Python module.\n",
              " */\n",
              "(function(scope) {\n",
              "function span(text, styleAttributes = {}) {\n",
              "  const element = document.createElement('span');\n",
              "  element.textContent = text;\n",
              "  for (const key of Object.keys(styleAttributes)) {\n",
              "    element.style[key] = styleAttributes[key];\n",
              "  }\n",
              "  return element;\n",
              "}\n",
              "\n",
              "// Max number of bytes which will be uploaded at a time.\n",
              "const MAX_PAYLOAD_SIZE = 100 * 1024;\n",
              "\n",
              "function _uploadFiles(inputId, outputId) {\n",
              "  const steps = uploadFilesStep(inputId, outputId);\n",
              "  const outputElement = document.getElementById(outputId);\n",
              "  // Cache steps on the outputElement to make it available for the next call\n",
              "  // to uploadFilesContinue from Python.\n",
              "  outputElement.steps = steps;\n",
              "\n",
              "  return _uploadFilesContinue(outputId);\n",
              "}\n",
              "\n",
              "// This is roughly an async generator (not supported in the browser yet),\n",
              "// where there are multiple asynchronous steps and the Python side is going\n",
              "// to poll for completion of each step.\n",
              "// This uses a Promise to block the python side on completion of each step,\n",
              "// then passes the result of the previous step as the input to the next step.\n",
              "function _uploadFilesContinue(outputId) {\n",
              "  const outputElement = document.getElementById(outputId);\n",
              "  const steps = outputElement.steps;\n",
              "\n",
              "  const next = steps.next(outputElement.lastPromiseValue);\n",
              "  return Promise.resolve(next.value.promise).then((value) => {\n",
              "    // Cache the last promise value to make it available to the next\n",
              "    // step of the generator.\n",
              "    outputElement.lastPromiseValue = value;\n",
              "    return next.value.response;\n",
              "  });\n",
              "}\n",
              "\n",
              "/**\n",
              " * Generator function which is called between each async step of the upload\n",
              " * process.\n",
              " * @param {string} inputId Element ID of the input file picker element.\n",
              " * @param {string} outputId Element ID of the output display.\n",
              " * @return {!Iterable<!Object>} Iterable of next steps.\n",
              " */\n",
              "function* uploadFilesStep(inputId, outputId) {\n",
              "  const inputElement = document.getElementById(inputId);\n",
              "  inputElement.disabled = false;\n",
              "\n",
              "  const outputElement = document.getElementById(outputId);\n",
              "  outputElement.innerHTML = '';\n",
              "\n",
              "  const pickedPromise = new Promise((resolve) => {\n",
              "    inputElement.addEventListener('change', (e) => {\n",
              "      resolve(e.target.files);\n",
              "    });\n",
              "  });\n",
              "\n",
              "  const cancel = document.createElement('button');\n",
              "  inputElement.parentElement.appendChild(cancel);\n",
              "  cancel.textContent = 'Cancel upload';\n",
              "  const cancelPromise = new Promise((resolve) => {\n",
              "    cancel.onclick = () => {\n",
              "      resolve(null);\n",
              "    };\n",
              "  });\n",
              "\n",
              "  // Wait for the user to pick the files.\n",
              "  const files = yield {\n",
              "    promise: Promise.race([pickedPromise, cancelPromise]),\n",
              "    response: {\n",
              "      action: 'starting',\n",
              "    }\n",
              "  };\n",
              "\n",
              "  cancel.remove();\n",
              "\n",
              "  // Disable the input element since further picks are not allowed.\n",
              "  inputElement.disabled = true;\n",
              "\n",
              "  if (!files) {\n",
              "    return {\n",
              "      response: {\n",
              "        action: 'complete',\n",
              "      }\n",
              "    };\n",
              "  }\n",
              "\n",
              "  for (const file of files) {\n",
              "    const li = document.createElement('li');\n",
              "    li.append(span(file.name, {fontWeight: 'bold'}));\n",
              "    li.append(span(\n",
              "        `(${file.type || 'n/a'}) - ${file.size} bytes, ` +\n",
              "        `last modified: ${\n",
              "            file.lastModifiedDate ? file.lastModifiedDate.toLocaleDateString() :\n",
              "                                    'n/a'} - `));\n",
              "    const percent = span('0% done');\n",
              "    li.appendChild(percent);\n",
              "\n",
              "    outputElement.appendChild(li);\n",
              "\n",
              "    const fileDataPromise = new Promise((resolve) => {\n",
              "      const reader = new FileReader();\n",
              "      reader.onload = (e) => {\n",
              "        resolve(e.target.result);\n",
              "      };\n",
              "      reader.readAsArrayBuffer(file);\n",
              "    });\n",
              "    // Wait for the data to be ready.\n",
              "    let fileData = yield {\n",
              "      promise: fileDataPromise,\n",
              "      response: {\n",
              "        action: 'continue',\n",
              "      }\n",
              "    };\n",
              "\n",
              "    // Use a chunked sending to avoid message size limits. See b/62115660.\n",
              "    let position = 0;\n",
              "    do {\n",
              "      const length = Math.min(fileData.byteLength - position, MAX_PAYLOAD_SIZE);\n",
              "      const chunk = new Uint8Array(fileData, position, length);\n",
              "      position += length;\n",
              "\n",
              "      const base64 = btoa(String.fromCharCode.apply(null, chunk));\n",
              "      yield {\n",
              "        response: {\n",
              "          action: 'append',\n",
              "          file: file.name,\n",
              "          data: base64,\n",
              "        },\n",
              "      };\n",
              "\n",
              "      let percentDone = fileData.byteLength === 0 ?\n",
              "          100 :\n",
              "          Math.round((position / fileData.byteLength) * 100);\n",
              "      percent.textContent = `${percentDone}% done`;\n",
              "\n",
              "    } while (position < fileData.byteLength);\n",
              "  }\n",
              "\n",
              "  // All done.\n",
              "  yield {\n",
              "    response: {\n",
              "      action: 'complete',\n",
              "    }\n",
              "  };\n",
              "}\n",
              "\n",
              "scope.google = scope.google || {};\n",
              "scope.google.colab = scope.google.colab || {};\n",
              "scope.google.colab._files = {\n",
              "  _uploadFiles,\n",
              "  _uploadFilesContinue,\n",
              "};\n",
              "})(self);\n",
              "</script> "
            ]
          },
          "metadata": {}
        },
        {
          "output_type": "stream",
          "name": "stdout",
          "text": [
            "Saving ChatbotData.csv to ChatbotData.csv\n"
          ]
        }
      ]
    },
    {
      "cell_type": "code",
      "source": [
        "# 파일 경로 설정\n",
        "filepath = 'ChatbotData.csv' "
      ],
      "metadata": {
        "id": "pxX10pMSzMFU"
      },
      "execution_count": 3,
      "outputs": []
    },
    {
      "cell_type": "code",
      "source": [
        "# 레벤슈타인 거리를 저장할 리스트 생성\n",
        "a_leven=[]"
      ],
      "metadata": {
        "id": "Gz9l_8Gg-2St"
      },
      "execution_count": 4,
      "outputs": []
    },
    {
      "cell_type": "code",
      "source": [
        "class SimpleChatBot:\n",
        "  # 객체 생성과 동시에 학습데이터를 질문 묶음과 답변 묶음으로 분리\n",
        "  def __init__(self, filepath):\n",
        "    self.questions, self.answers = self.load_data(filepath)\n",
        "\n",
        "  # 학습데이터를 질문 묶음과 답변 묶음으로 분리하는 함수\n",
        "  def load_data(self, filepath):\n",
        "    data = pd.read_csv(filepath)\n",
        "    questions = data['Q'].tolist()\n",
        "    answers = data['A'].tolist()\n",
        "    return questions, answers\n",
        "\n",
        "  # 두 문장의 레벤슈타인 거리를 구하는 함수\n",
        "  def calc_distance(self, a, b):\n",
        "    if a == b: return 0 # 두 문장이 문장이 같으면 0을 반환\n",
        "    a_len = len(a) # 입력 질문의 길이\n",
        "    b_len = len(b) # 학습데이터 질문의 길이\n",
        "    if a == \"\": return b_len\n",
        "    if b == \"\": return a_len\n",
        "    # 2차원 표 (a_len+1, b_len+1) 준비하기 \n",
        "    matrix = [[] for i in range(a_len+1)] # 리스트 컴프리헨션을 사용하여 1차원 초기화\n",
        "    for i in range(a_len+1): # 0으로 초기화\n",
        "        matrix[i] = [0 for j in range(b_len+1)]  # 리스트 컴프리헨션을 사용하여 2차원 초기화\n",
        "    # 0일 때 초깃값을 설정\n",
        "    for i in range(a_len+1):\n",
        "        matrix[i][0] = i\n",
        "    for j in range(b_len+1):\n",
        "        matrix[0][j] = j\n",
        "    # 레벤슈타인 표 채우기 \n",
        "    for i in range(1, a_len+1):\n",
        "        ac = a[i-1]\n",
        "        for j in range(1, b_len+1):\n",
        "            bc = b[j-1] \n",
        "            # print(bc)\n",
        "            cost = 0 if (ac == bc) else 1  \n",
        "            matrix[i][j] = min([\n",
        "                matrix[i-1][j] + 1,     # 문자 제거: 위쪽에서 +1\n",
        "                matrix[i][j-1] + 1,     # 문자 삽입: 왼쪽 수에서 +1   \n",
        "                matrix[i-1][j-1] + cost # 문자 변경: 대각선에서 +1, 문자가 동일하면 대각선 숫자 복사\n",
        "            ])\n",
        "    return matrix[a_len][b_len]\n",
        "\n",
        "  def find_best_answer(self, input_sentence):\n",
        "    for question in self.questions :\n",
        "      # 입력 질문과 학습데이터 질문의 레벤슈타인 거리를 계산하여 리스트에 모두 입력\n",
        "      a_leven.append(self.calc_distance(input_sentence, question)) \n",
        "      # 레벤슈타인 값들이 입력된 리스트를 넘파이 배열\n",
        "      a_np = np.array(a_leven)\n",
        "      # 레벤슈타인 거리가 가장 잛은 인덱스 추출\n",
        "      best_index = a_np.argmin()\n",
        "    return self.answers[best_index] # 레벤슈타인 거리가 가장 짧은 질문에 대응하는 답변 출력"
      ],
      "metadata": {
        "id": "Mqa5uuBfdZq6"
      },
      "execution_count": 5,
      "outputs": []
    },
    {
      "cell_type": "code",
      "source": [],
      "metadata": {
        "id": "rwK9FDNeJYz_"
      },
      "execution_count": null,
      "outputs": []
    },
    {
      "cell_type": "code",
      "source": [
        "# 챗봇 객체를 생성\n",
        "chatbot = SimpleChatBot(filepath)"
      ],
      "metadata": {
        "id": "1WWGVzoeeJ5K"
      },
      "execution_count": 6,
      "outputs": []
    },
    {
      "cell_type": "code",
      "source": [
        "# '종료'라는 입력이 나올 때까지 사용자의 입력에 따라 챗봇의 응답을 출력하는 무한 루프를 실행합니다.\n",
        "while True:\n",
        "    # 질문 입력\n",
        "    input_sentence = input('나: ')\n",
        "    # '종료'라는 말을 입력하면 종료\n",
        "    if input_sentence.lower() == '종료':\n",
        "        break\n",
        "    # 레벤슈타인 거리가 가장 짧은 질문에 대응하는 답변 출력\n",
        "    response = chatbot.find_best_answer(input_sentence)\n",
        "    print('챗봇:', response)\n",
        "    # 레벤슈타인 거리를 입력한 리스트를 초기화\n",
        "    a_leven = [] # 초기화를 하지 않을 시 동일한 답변을 반복하므로 반드시 초기화 필요\n"
      ],
      "metadata": {
        "colab": {
          "base_uri": "https://localhost:8080/"
        },
        "id": "A_8Rjmt7eKgt",
        "outputId": "afd7af02-725c-4218-f3d5-9f3f7aeed1ce"
      },
      "execution_count": 7,
      "outputs": [
        {
          "name": "stdout",
          "output_type": "stream",
          "text": [
            "나: 안녕하세요\n",
            "챗봇: 안녕하세요.\n",
            "나: 오늘 하루도 정말 고생 많았어요\n",
            "챗봇: 내일의 시작이죠.\n",
            "나: 여행을 가고 싶어요\n",
            "챗봇: 탁 트인 바다 좋죠!\n",
            "나: 당신은 어디에 살고 있나요\n",
            "챗봇: 같은 하늘 아래 어딘가에.\n",
            "나: 시적인 대화 좋아요 \n",
            "챗봇: 꽃 선물은 언제나 좋죠.\n",
            "나: 종료\n"
          ]
        }
      ]
    }
  ]
}